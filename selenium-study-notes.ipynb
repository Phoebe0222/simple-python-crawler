{
 "cells": [
  {
   "cell_type": "code",
   "execution_count": 29,
   "metadata": {},
   "outputs": [],
   "source": [
    "from selenium import webdriver\n",
    "from selenium.webdriver.common.keys import Keys # provide keys in the keyboard\n",
    "from selenium.webdriver.firefox.options import Options\n",
    "from selenium.webdriver.common.desired_capabilities import DesiredCapabilities\n",
    "\n",
    "from selenium.webdriver.support.ui import Select"
   ]
  },
  {
   "cell_type": "code",
   "execution_count": 13,
   "metadata": {},
   "outputs": [],
   "source": [
    "def FixProxy():\n",
    "    \"\"\"Reset Firefox Profile\"\"\"\n",
    "    profile = webdriver.FirefoxProfile()\n",
    "    options = Options()\n",
    "    cap = DesiredCapabilities().FIREFOX\n",
    "    cap[\"marionette\"] = True # fixed the version conflicts between firefox, selenium\n",
    "    options.headless = True\n",
    "    profile.set_preference('network.proxy.type', 0)\n",
    "    return webdriver.Firefox(options = options,\n",
    "                             firefox_profile=profile,\n",
    "                             capabilities=cap,\n",
    "                             executable_path='./geckodriver')\n",
    "\n"
   ]
  },
  {
   "cell_type": "code",
   "execution_count": 14,
   "metadata": {},
   "outputs": [],
   "source": [
    "driver = FixProxy() # create firefox webdriver\n",
    "driver.get(\"http://www.python.org\") # naviagte to a page given by the URL, will wait until it's fully loaded \n",
    "assert \"Python\" in driver.title # assert that the title has Python in it \n",
    "elem = driver.find_element_by_name(\"q\") # locate the input text element by its name attribute\n",
    "# serch box has the name \"q\", can check by inspect \n",
    "elem.clear() # clear pre-populated text in the search box\n",
    "elem.send_keys(\"pycon\") # entering \"pycon\"\n",
    "elem.send_keys(Keys.RETURN) # it's like hitting return on keyboard\n",
    "assert \"No results found.\" not in driver.page_source # ensure there are results\n",
    "driver.close() # close the tab"
   ]
  },
  {
   "cell_type": "code",
   "execution_count": 22,
   "metadata": {},
   "outputs": [],
   "source": [
    "# see testing with unittest in test-python-org.py"
   ]
  },
  {
   "cell_type": "markdown",
   "metadata": {},
   "source": [
    "## Navigating"
   ]
  },
  {
   "cell_type": "code",
   "execution_count": 49,
   "metadata": {},
   "outputs": [
    {
     "name": "stdout",
     "output_type": "stream",
     "text": [
      "Value is: COMP\n",
      "Value is: TPPD\n"
     ]
    }
   ],
   "source": [
    "driver = FixProxy() # create firefox webdriver\n",
    "driver.get(\"https://www.einsure.com.au/DSP/personal/web/motor/new?fi=ALLIANZ\")  \n",
    "options_insurType = driver.find_elements_by_xpath(\"//input[@name='dto.insuranceType']\") \n",
    "# returns a list\n",
    "for option in options_insurType:\n",
    "    print(\"Value is: %s\" % option.get_attribute('value'))\n",
    "    option.click()\n",
    "driver.close() # close the tab"
   ]
  },
  {
   "cell_type": "code",
   "execution_count": 52,
   "metadata": {},
   "outputs": [
    {
     "name": "stdout",
     "output_type": "stream",
     "text": [
      "None\n",
      "None\n",
      "None\n",
      "None\n",
      "None\n",
      "None\n",
      "None\n",
      "None\n",
      "None\n",
      "None\n",
      "None\n",
      "None\n",
      "None\n",
      "None\n",
      "None\n",
      "None\n",
      "None\n",
      "None\n",
      "None\n",
      "None\n",
      "None\n",
      "None\n",
      "None\n",
      "None\n",
      "None\n",
      "None\n",
      "None\n",
      "None\n",
      "None\n",
      "None\n",
      "Insurance type\n",
      "Insurance type\n",
      "None\n",
      "None\n",
      "None\n",
      "None\n",
      "None\n",
      "None\n",
      "Street address\n",
      "I am unable to find my address\n",
      "None\n",
      "None\n",
      "None\n",
      "None\n",
      "None\n",
      "Postcode\n",
      "State\n",
      "Property name\n",
      "Unit number\n",
      "Street number\n",
      "Street name\n",
      "Your registration number\n",
      "None\n",
      "None\n",
      "I don't know my registration number\n",
      "None\n",
      "None\n",
      "None\n",
      "Is this your vehicle\n",
      "Is this your vehicle\n",
      "Vehicle's year\n",
      "Has optional manufacturer accessories\n",
      "Has optional manufacturer accessories\n",
      "Has any other accessories\n",
      "Has any other accessories\n",
      "Value of any other accessories\n",
      "Has your vehicle been modified\n",
      "Has your vehicle been modified\n",
      "None\n",
      "None\n",
      "None\n",
      "None\n",
      "None\n",
      "None\n",
      "None\n",
      "None\n",
      "None\n",
      "None\n",
      "None\n",
      "None\n",
      "Is the vehicle registered, roadworthy and safe to drive?\n",
      "Is the vehicle registered, roadworthy and safe to drive?\n",
      "Any rust, hail or unrepaired body or windscreen damage?\n",
      "Any rust, hail or unrepaired body or windscreen damage?\n",
      "Has your vehicle been modified?\n",
      "Has your vehicle been modified?\n",
      "Licence cancelled or disqualified in last 3 years\n",
      "Licence cancelled or disqualified in last 3 years\n",
      "Had a claim refused, insurance declined or special conditions imposed on a motor vehicle policy in the last 5 years?\n",
      "Had a claim refused, insurance declined or special conditions imposed on a motor vehicle policy in the last 5 years?\n",
      "Convictions, fines or penalties in last 3 years\n",
      "Convictions, fines or penalties in last 3 years\n",
      "None\n",
      "None\n"
     ]
    }
   ],
   "source": [
    "# list all input questions\n",
    "from selenium.webdriver.common.by import By\n",
    "driver = FixProxy() # create firefox webdriver\n",
    "driver.get(\"https://www.einsure.com.au/DSP/personal/web/motor/new?fi=ALLIANZ\")  \n",
    "all_inputs = driver.find_elements(By.XPATH, '//input')\n",
    "for input in all_inputs:\n",
    "    print(input.get_attribute('question'))\n",
    "driver.close()"
   ]
  },
  {
   "cell_type": "code",
   "execution_count": null,
   "metadata": {},
   "outputs": [],
   "source": []
  }
 ],
 "metadata": {
  "kernelspec": {
   "display_name": "mlsa",
   "language": "python",
   "name": "mlsa"
  },
  "language_info": {
   "codemirror_mode": {
    "name": "ipython",
    "version": 3
   },
   "file_extension": ".py",
   "mimetype": "text/x-python",
   "name": "python",
   "nbconvert_exporter": "python",
   "pygments_lexer": "ipython3",
   "version": "3.7.4"
  }
 },
 "nbformat": 4,
 "nbformat_minor": 2
}
